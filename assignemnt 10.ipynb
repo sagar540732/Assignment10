{
 "cells": [
  {
   "cell_type": "markdown",
   "metadata": {},
   "source": [
    "1.\tHow do you distinguish between shutil.copy() and shutil.copytree()?\n",
    "ans: shutil.copy() = it will copy a singlefile \n",
    "        shutil.copytree() = it will copy an entire folder and everyfolder and file contained in it.\n",
    "\n",
    "\n",
    "2.\tWhat function is used to rename files??\n",
    "ans: rename(\" file directory \")  is a function used to rename file \n",
    "\n",
    "3.\tWhat is the difference between the delete functions in the send2trash and shutil modules?\n",
    "ans: send2trash: it will use to move a file or folder to the recycle bin.\n",
    "shutil : This functions is used to delete file and folder permanently.\n",
    "\n",
    "4. ZipFile objects have a close() method just like File objects’ close() method. What ZipFile method is equivalent to File objects’ open() method?\n",
    "\n",
    "Ans: \n",
    "Access a member of the archive as a binary file-like object. name can be either the name of a file within the archive or a ZipInfo object.\n",
    "The mode parameter, if included, must be 'r' (the default) or 'w'. pwd is the password used to decrypt encrypted ZIP files.\n",
    "open() is also a context manager and therefore supports the with statement:\n",
    "with ZipFile('spam.zip') as myzip:\n",
    "    with myzip.open('eggs.txt') as myfile:\n",
    "        print(myfile.read())\n",
    "\n",
    "\n",
    "\n"
   ]
  },
  {
   "cell_type": "code",
   "execution_count": null,
   "metadata": {},
   "outputs": [],
   "source": []
  }
 ],
 "metadata": {
  "kernelspec": {
   "display_name": "Python 3",
   "language": "python",
   "name": "python3"
  },
  "language_info": {
   "codemirror_mode": {
    "name": "ipython",
    "version": 3
   },
   "file_extension": ".py",
   "mimetype": "text/x-python",
   "name": "python",
   "nbconvert_exporter": "python",
   "pygments_lexer": "ipython3",
   "version": "3.8.5"
  }
 },
 "nbformat": 4,
 "nbformat_minor": 4
}
